{
 "cells": [
  {
   "cell_type": "markdown",
   "metadata": {},
   "source": [
    "⚙️ **SETUP**\n",
    "\n",
    "- Ensure you are running with the `supermarkets` conda environment and that you're up to date. See [README.md](../../README.md) if you haven't set up your environment yet.\n",
    "\n",
    "    On the command line:\n",
    "\n",
    "    ```bash\n",
    "    conda activate supermarkets\n",
    "    pip install -r requirements.txt\n",
    "    ```\n",
    "\n",
    "- On VSCode, select `supermarkets` as the Python interpreter for this notebook and project."
   ]
  },
  {
   "cell_type": "code",
   "execution_count": 1,
   "metadata": {},
   "outputs": [],
   "source": [
    "import time\n",
    "import pandas as pd\n",
    "\n",
    "from pprint import pprint\n",
    "from tqdm.notebook import tqdm\n",
    "\n",
    "from selenium import webdriver\n",
    "from selenium.webdriver.common.by import By"
   ]
  },
  {
   "cell_type": "code",
   "execution_count": 2,
   "metadata": {},
   "outputs": [],
   "source": [
    "# Add the utilscraping module to the path\n",
    "import sys\n",
    "sys.path.append('../src/python/')\n",
    "\n",
    "from utilscraping import safely_get_elements, safely_locate_element, safely_click_element"
   ]
  },
  {
   "cell_type": "markdown",
   "metadata": {},
   "source": [
    "**CONSTANTS** "
   ]
  },
  {
   "cell_type": "code",
   "execution_count": 3,
   "metadata": {},
   "outputs": [],
   "source": [
    "WAITROSE_URL = 'http://www.waitrose.com/ecom/shop/browse/groceries'"
   ]
  },
  {
   "cell_type": "markdown",
   "metadata": {},
   "source": [
    "# 1. Get Categories of Grocery Products "
   ]
  },
  {
   "cell_type": "code",
   "execution_count": 13,
   "metadata": {},
   "outputs": [],
   "source": [
    "driver = webdriver.Firefox()"
   ]
  },
  {
   "cell_type": "code",
   "execution_count": 17,
   "metadata": {},
   "outputs": [],
   "source": [
    "driver.get(WAITROSE_URL)\n",
    "driver.execute_script(\"document.body.style.zoom='30%'\")"
   ]
  },
  {
   "cell_type": "code",
   "execution_count": 18,
   "metadata": {},
   "outputs": [],
   "source": [
    "safely_click_element(driver, '//button[contains(@data-testid, \"reject-all\")]/span')\n",
    "\n",
    "safely_click_element(driver, '//button[contains(@data-testid, \"expand-button\")]/span')"
   ]
  },
  {
   "cell_type": "markdown",
   "metadata": {},
   "source": [
    "⚠️ **Remember to close the cookies banner manually before running the code below.**"
   ]
  },
  {
   "cell_type": "code",
   "execution_count": 20,
   "metadata": {},
   "outputs": [
    {
     "name": "stdout",
     "output_type": "stream",
     "text": [
      "{'Baby, Child & Parent': 'https://www.waitrose.com/ecom/shop/browse/groceries/baby_child_and_parent',\n",
      " 'Bakery': 'https://www.waitrose.com/ecom/shop/browse/groceries/bakery',\n",
      " 'Beer, Wine & Spirits': 'https://www.waitrose.com/ecom/shop/browse/groceries/beer_wine_and_spirits',\n",
      " 'Best of British': 'https://www.waitrose.com/ecom/shop/browse/groceries/best_of_british',\n",
      " 'Dietary & Lifestyle': 'https://www.waitrose.com/ecom/shop/browse/groceries/dietary_and_lifestyle',\n",
      " 'Everyday Value': 'https://www.waitrose.com/ecom/shop/browse/groceries/everyday_value',\n",
      " 'Food Cupboard': 'https://www.waitrose.com/ecom/shop/browse/groceries/food_cupboard',\n",
      " 'Fresh & Chilled': 'https://www.waitrose.com/ecom/shop/browse/groceries/fresh_and_chilled',\n",
      " 'Frozen': 'https://www.waitrose.com/ecom/shop/browse/groceries/frozen',\n",
      " 'Groceries Offers': 'https://www.waitrose.com/ecom/shop/browse/offers',\n",
      " 'Home': 'https://www.waitrose.com/ecom/shop/browse/groceries/home',\n",
      " 'Household': 'https://www.waitrose.com/ecom/shop/browse/groceries/household',\n",
      " 'New': 'https://www.waitrose.com/ecom/shop/browse/groceries/new',\n",
      " 'Organic Shop': 'https://www.waitrose.com/ecom/shop/browse/groceries/organic_shop',\n",
      " 'Pet': 'https://www.waitrose.com/ecom/shop/browse/groceries/pet',\n",
      " 'Summer': 'https://www.waitrose.com/ecom/shop/browse/groceries/summer',\n",
      " 'Tea, Coffee & Soft Drinks': 'https://www.waitrose.com/ecom/shop/browse/groceries/tea_coffee_and_soft_drinks',\n",
      " 'Toiletries, Health & Beauty': 'https://www.waitrose.com/ecom/shop/browse/groceries/toiletries_health_and_beauty',\n",
      " 'Waitrose Brands': 'https://www.waitrose.com/ecom/shop/browse/groceries/waitrose_brands'}\n"
     ]
    }
   ],
   "source": [
    "containers_categories = safely_get_elements(driver, \"#subcategoryList > li > a\")\n",
    "\n",
    "categories = {\n",
    "    a_element.get_attribute(\"aria-label\"): a_element.get_attribute(\"href\")\n",
    "    for a_element in containers_categories\n",
    "}\n",
    "\n",
    "from pprint import pprint\n",
    "pprint(categories)"
   ]
  },
  {
   "cell_type": "markdown",
   "metadata": {},
   "source": [
    "# 2. Explore how to get all products from a given category"
   ]
  },
  {
   "cell_type": "code",
   "execution_count": 17,
   "metadata": {},
   "outputs": [],
   "source": [
    "# Go to single category\n",
    "driver.get(categories[\"Summer\"])\n",
    "driver.execute_script(\"document.body.style.zoom='30%'\")"
   ]
  },
  {
   "cell_type": "code",
   "execution_count": 18,
   "metadata": {},
   "outputs": [
    {
     "name": "stdout",
     "output_type": "stream",
     "text": [
      "Loading more...\n",
      "Loading more...\n",
      "Loading more...\n",
      "Loading more...\n",
      "Loading more...\n"
     ]
    }
   ],
   "source": [
    "# Click on Load More until you can't anymore\n",
    "waiting_modifier = 5\n",
    "\n",
    "load_more_button_selector = \"//span[contains(text(), 'Load more...')]\"\n",
    "while safely_locate_element(driver, load_more_button_selector, wait_time=waiting_modifier*3):\n",
    "    print(\"Loading more...\")\n",
    "    safely_click_element(driver, load_more_button_selector, wait_time=waiting_modifier*3)"
   ]
  },
  {
   "cell_type": "markdown",
   "metadata": {},
   "source": [
    "Grab products:"
   ]
  },
  {
   "cell_type": "code",
   "execution_count": 19,
   "metadata": {},
   "outputs": [
    {
     "name": "stdout",
     "output_type": "stream",
     "text": [
      "Retrying to get element... Attempt 1\n",
      "Retrying to get element... Attempt 2\n",
      "Failed to get element: Message: \n",
      "\n"
     ]
    }
   ],
   "source": [
    "# Specify the xpath to get all <article> elements with data-test-id=\"product-pod\"\n",
    "products_xpath = \"//article[contains(@data-testid, 'product-pod')]\"\n",
    "\n",
    "# Get all the product elements\n",
    "product_elements = safely_get_elements(driver, products_xpath, selector_type=By.XPATH, wait_time=0)"
   ]
  },
  {
   "cell_type": "code",
   "execution_count": 20,
   "metadata": {},
   "outputs": [
    {
     "data": {
      "text/plain": [
       "0"
      ]
     },
     "execution_count": 20,
     "metadata": {},
     "output_type": "execute_result"
    }
   ],
   "source": [
    "len(product_elements)"
   ]
  },
  {
   "cell_type": "markdown",
   "metadata": {},
   "source": [
    "Collect attributes for each product:"
   ]
  },
  {
   "cell_type": "code",
   "execution_count": 36,
   "metadata": {},
   "outputs": [],
   "source": [
    "article_attrs = [\n",
    "    \"data-product-id\",\n",
    "    \"data-product-name\",\n",
    "    \"data-product-type\",\n",
    "    \"data-product-on-offer\",\n",
    "    \"data-product-index\",\n",
    "]"
   ]
  },
  {
   "cell_type": "markdown",
   "metadata": {},
   "source": [
    "Details of each product:"
   ]
  },
  {
   "cell_type": "code",
   "execution_count": 53,
   "metadata": {},
   "outputs": [
    {
     "data": {
      "text/plain": [
       "{'data-testid': 'product-pod',\n",
       " 'data-product-id': '525635',\n",
       " 'data-product-name': 'Organix Raspberry & Apple Soft Oaty Bars',\n",
       " 'data-product-type': 'G',\n",
       " 'data-product-on-offer': 'false',\n",
       " 'data-product-index': '1'}"
      ]
     },
     "execution_count": 53,
     "metadata": {},
     "output_type": "execute_result"
    }
   ],
   "source": [
    "{attr: product_elements[0].get_attribute(attr) for attr in article_attrs}"
   ]
  },
  {
   "cell_type": "markdown",
   "metadata": {},
   "source": [
    "Deeper into the tree:"
   ]
  },
  {
   "cell_type": "code",
   "execution_count": 56,
   "metadata": {},
   "outputs": [
    {
     "data": {
      "text/plain": [
       "'https://ecom-su-static-prod.wtrecom.com/images/products/3/LN_525635_BP_3.jpg'"
      ]
     },
     "execution_count": 56,
     "metadata": {},
     "output_type": "execute_result"
    }
   ],
   "source": [
    "## Image info\n",
    "\n",
    "container_img = product_elements[0].find_element(By.XPATH, \"//*[contains(@data-testid, 'product-pod-image')]\")\n",
    "img_link = container_img.find_element(By.TAG_NAME, \"img\").get_attribute(\"src\")\n",
    "img_link"
   ]
  },
  {
   "cell_type": "code",
   "execution_count": 71,
   "metadata": {},
   "outputs": [
    {
     "data": {
      "text/plain": [
       "{'product_page': 'https://www.waitrose.com/ecom/products/organix-raspberry-apple-soft-oaty-bars/525635-812878-812879',\n",
       " 'product_name': 'Organix Raspberry & Apple Soft Oaty Bars',\n",
       " 'product_size': '6x23g'}"
      ]
     },
     "execution_count": 71,
     "metadata": {},
     "output_type": "execute_result"
    }
   ],
   "source": [
    "## Product Details\n",
    "\n",
    "container_details = product_elements[0].find_element(By.XPATH, \"//*[contains(@data-testid, 'product-pod-header')]\")\n",
    "\n",
    "dict(product_page=container_details.find_element(By.TAG_NAME, \"a\").get_attribute(\"href\"),\n",
    "     product_name=container_details.find_element(By.CSS_SELECTOR, \"h2\").text,\n",
    "     product_size=container_details.find_element(By.CSS_SELECTOR, \"a > span\").text)\n",
    "\n",
    "# pprint(container_details.get_property(\"outerHTML\"))"
   ]
  },
  {
   "cell_type": "code",
   "execution_count": 117,
   "metadata": {},
   "outputs": [
    {
     "data": {
      "text/plain": [
       "{'Item price': '£3.15', 'Price per unit': '£2.29/100g'}"
      ]
     },
     "execution_count": 117,
     "metadata": {},
     "output_type": "execute_result"
    }
   ],
   "source": [
    "## Product price\n",
    "\n",
    "container_price = product_elements[0].find_element(By.XPATH, \"//*[contains(@data-testid, 'product-pod-prices-section')]\")\n",
    "\n",
    "# Extract item price and pricer per unit\n",
    "{el.text.split(\"\\n\")[0]: el.text.split(\"\\n\")[1] for el in container_price.find_elements(By.XPATH, \"span[p]\")}\n"
   ]
  },
  {
   "cell_type": "markdown",
   "metadata": {},
   "source": [
    "# 3. Putting it all together"
   ]
  },
  {
   "cell_type": "code",
   "execution_count": 27,
   "metadata": {},
   "outputs": [],
   "source": [
    "driver.quit()"
   ]
  },
  {
   "cell_type": "code",
   "execution_count": 4,
   "metadata": {},
   "outputs": [],
   "source": [
    "article_attrs = [\n",
    "    \"data-product-id\",\n",
    "    \"data-product-name\",\n",
    "    \"data-product-type\",\n",
    "    \"data-product-on-offer\",\n",
    "    \"data-product-index\",\n",
    "]"
   ]
  },
  {
   "cell_type": "code",
   "execution_count": 5,
   "metadata": {},
   "outputs": [
    {
     "name": "stdout",
     "output_type": "stream",
     "text": [
      "{'Baby, Child & Parent': 'https://www.waitrose.com/ecom/shop/browse/groceries/baby_child_and_parent',\n",
      " 'Bakery': 'https://www.waitrose.com/ecom/shop/browse/groceries/bakery',\n",
      " 'Beer, Wine & Spirits': 'https://www.waitrose.com/ecom/shop/browse/groceries/beer_wine_and_spirits',\n",
      " 'Best of British': 'https://www.waitrose.com/ecom/shop/browse/groceries/best_of_british',\n",
      " 'Dietary & Lifestyle': 'https://www.waitrose.com/ecom/shop/browse/groceries/dietary_and_lifestyle',\n",
      " 'Everyday Value': 'https://www.waitrose.com/ecom/shop/browse/groceries/everyday_value',\n",
      " 'Food Cupboard': 'https://www.waitrose.com/ecom/shop/browse/groceries/food_cupboard',\n",
      " 'Fresh & Chilled': 'https://www.waitrose.com/ecom/shop/browse/groceries/fresh_and_chilled',\n",
      " 'Frozen': 'https://www.waitrose.com/ecom/shop/browse/groceries/frozen',\n",
      " 'Groceries Offers': 'https://www.waitrose.com/ecom/shop/browse/offers',\n",
      " 'Home': 'https://www.waitrose.com/ecom/shop/browse/groceries/home',\n",
      " 'Household': 'https://www.waitrose.com/ecom/shop/browse/groceries/household',\n",
      " 'New': 'https://www.waitrose.com/ecom/shop/browse/groceries/new',\n",
      " 'Organic Shop': 'https://www.waitrose.com/ecom/shop/browse/groceries/organic_shop',\n",
      " 'Pet': 'https://www.waitrose.com/ecom/shop/browse/groceries/pet',\n",
      " 'Summer': 'https://www.waitrose.com/ecom/shop/browse/groceries/summer',\n",
      " 'Tea, Coffee & Soft Drinks': 'https://www.waitrose.com/ecom/shop/browse/groceries/tea_coffee_and_soft_drinks',\n",
      " 'Toiletries, Health & Beauty': 'https://www.waitrose.com/ecom/shop/browse/groceries/toiletries_health_and_beauty',\n",
      " 'Waitrose Brands': 'https://www.waitrose.com/ecom/shop/browse/groceries/waitrose_brands'}\n"
     ]
    }
   ],
   "source": [
    "driver = webdriver.Firefox()\n",
    "driver.get(WAITROSE_URL)\n",
    "driver.execute_script(\"document.body.style.zoom='30%'\")\n",
    "\n",
    "# Reject cookies and expand categories\n",
    "safely_click_element(driver, '//button[contains(@data-testid, \"reject-all\")]/span')\n",
    "safely_click_element(driver, '//button[contains(@data-testid, \"expand-button\")]/span')\n",
    "\n",
    "# ⚠️ **Remember to close the cookies banner manually before running the code below.**\n",
    "containers_categories = safely_get_elements(driver, \"#subcategoryList > li > a\")\n",
    "\n",
    "categories = {\n",
    "    a_element.get_attribute(\"aria-label\"): a_element.get_attribute(\"href\")\n",
    "    for a_element in containers_categories\n",
    "}\n",
    "\n",
    "from pprint import pprint\n",
    "pprint(categories)"
   ]
  },
  {
   "cell_type": "code",
   "execution_count": 11,
   "metadata": {},
   "outputs": [],
   "source": [
    "def get_product_info(product_element):\n",
    "\n",
    "    result = dict()\n",
    "\n",
    "    # Metadata\n",
    "    metadata_info = {\n",
    "        attr: product_element.get_attribute(attr) for attr in article_attrs\n",
    "    }\n",
    "    result.update(metadata_info)\n",
    "    # pprint(result)\n",
    "\n",
    "\n",
    "    # Image link\n",
    "    img_xpath = \".//*[contains(@data-testid, 'product-pod-image')]//img\"\n",
    "    # pprint(product_element.find_element(By.XPATH, img_xpath).get_attribute(\"outerHTML\"))\n",
    "    img_link = product_element.find_element(By.XPATH, img_xpath).get_attribute(\"src\")\n",
    "    result.update({\"image-url\": img_link})\n",
    "    # pprint(result)\n",
    "\n",
    "    # Product details\n",
    "    details_xpath = \".//*[contains(@data-testid, 'product-pod-header')]\"\n",
    "    # pprint(product_element.find_element(By.XPATH, details_xpath).get_attribute(\"outerHTML\"))\n",
    "    div_details = product_element.find_element(By.XPATH, details_xpath)\n",
    "\n",
    "    prod_details = {\n",
    "        \"product-page\": div_details.find_element(By.TAG_NAME, \"a\").get_attribute(\"href\"),\n",
    "        \"product-name\": div_details.find_element(By.CSS_SELECTOR, \"h2\").text,\n",
    "        \"product-size\": div_details.find_element(By.CSS_SELECTOR, \"a > span\").text\n",
    "    }\n",
    "    result.update(prod_details)\n",
    "\n",
    "    # Price\n",
    "    price_xpath = \".//*[contains(@data-testid, 'product-pod-prices-section')]\"\n",
    "    container_price = product_element.find_element(By.XPATH, price_xpath)\n",
    "\n",
    "    # Extract item price and pricer per unit\n",
    "    price_info = {\n",
    "        el.text.split(\"\\n\")[0]: el.text.split(\"\\n\")[1]\n",
    "        for el in container_price.find_elements(By.XPATH, \"span[p]\")\n",
    "        if \"\\n\" in el.text\n",
    "    }\n",
    "    if not price_info:\n",
    "        price_info = {\n",
    "            \"item-price\": None,\n",
    "            \"price-per-unit\": None\n",
    "        }\n",
    "\n",
    "    # Rename 'Item price' to item-price and 'Price per unit' to price-per-unit\n",
    "    price_info = {k.replace(\" \", \"-\").lower(): v for k, v in price_info.items()}\n",
    "    result.update(price_info)\n",
    "    \n",
    "    # Ofer Description\n",
    "    if result[\"data-product-on-offer\"] == \"true\":\n",
    "        offer_xpath = \".//*[contains(@data-testid, 'product-pod-promotion')]//a/p/span\"\n",
    "        offer_description = product_element.find_element(By.XPATH, offer_xpath).get_attribute(\"innerText\")\n",
    "    else:\n",
    "        offer_description = None\n",
    "    result.update({\"offer-description\": offer_description})\n",
    "\n",
    "    return result\n",
    "\n",
    "# all_products_info = [get_product_info(product) for product in tqdm(product_elements)]"
   ]
  },
  {
   "cell_type": "code",
   "execution_count": 14,
   "metadata": {},
   "outputs": [],
   "source": [
    "def collect_from_category(driver, category, url, waiting_modifier = 5):\n",
    "    print(f\"Navigating to page related to category: {category}\")\n",
    "    driver.get(url)\n",
    "    driver.execute_script(\"document.body.style.zoom='30%'\")\n",
    "    driver.execute_script(\"arguments[0].scrollIntoView();\", driver.find_element(By.TAG_NAME, \"footer\"))\n",
    "\n",
    "    # TODO: Make it a default parameter of the function\n",
    "    load_more_button_selector = \"//span[contains(text(), 'Load more...')]\"\n",
    "    loading_times = 0\n",
    "    while safely_locate_element(driver, load_more_button_selector, wait_time=waiting_modifier*3):\n",
    "        if loading_times == 0:\n",
    "            print(\"  Loading more... |\", end=\"\")\n",
    "        else:\n",
    "            # Just add a | to the same line:\n",
    "            print(\" |\", end=\"\")\n",
    "        loading_times += 1\n",
    "        safely_click_element(driver, load_more_button_selector, wait_time=waiting_modifier*3)\n",
    "        driver.execute_script(\"arguments[0].scrollIntoView();\", driver.find_element(By.TAG_NAME, \"footer\"))\n",
    "    print()\n",
    "\n",
    "    # Get all the product elements\n",
    "    print(\"Done loading. Collecting products... 🛒\")\n",
    "\n",
    "    # Specify the xpath to get all <article> elements with data-test-id=\"product-pod\"\n",
    "    # TODO: Make it a default parameter of the function\n",
    "    products_xpath = \".//article[contains(@data-testid, 'product-pod')]\"\n",
    "\n",
    "    # Get all the product elements\n",
    "    product_elements = driver.find_elements(By.XPATH, products_xpath)\n",
    "\n",
    "    all_products_info = [get_product_info(product) for product in tqdm(product_elements, desc=f\"Collecting products from {category}\")]\n",
    "    all_products_info = pd.DataFrame(all_products_info)\n",
    "    all_products_info[\"category\"] = category\n",
    "\n",
    "    filename = category.replace(\" \", \"-\").replace(\",\", \"-\").replace(\"&\",\"and\").lower()\n",
    "    all_products_info.to_csv(f\"../../data/{filename}.csv\", index=False)\n",
    "\n",
    "    return all_products_info"
   ]
  },
  {
   "cell_type": "code",
   "execution_count": 125,
   "metadata": {},
   "outputs": [],
   "source": [
    "# Select just two categories for now\n",
    "# categories = {k: v for k, v in categories.items() if k in [\"Pet\"]}"
   ]
  },
  {
   "cell_type": "code",
   "execution_count": null,
   "metadata": {},
   "outputs": [],
   "source": [
    "df = [\n",
    "    collect_from_category(driver, category, url)\n",
    "    for category, url in tqdm(categories.items(), desc=\"Categories\")\n",
    "    if category == \"Groceries Offers\"\n",
    "]"
   ]
  },
  {
   "cell_type": "code",
   "execution_count": 15,
   "metadata": {},
   "outputs": [],
   "source": [
    "df = pd.concat(df)"
   ]
  },
  {
   "cell_type": "code",
   "execution_count": 19,
   "metadata": {},
   "outputs": [
    {
     "data": {
      "text/html": [
       "<div>\n",
       "<style scoped>\n",
       "    .dataframe tbody tr th:only-of-type {\n",
       "        vertical-align: middle;\n",
       "    }\n",
       "\n",
       "    .dataframe tbody tr th {\n",
       "        vertical-align: top;\n",
       "    }\n",
       "\n",
       "    .dataframe thead th {\n",
       "        text-align: right;\n",
       "    }\n",
       "</style>\n",
       "<table border=\"1\" class=\"dataframe\">\n",
       "  <thead>\n",
       "    <tr style=\"text-align: right;\">\n",
       "      <th></th>\n",
       "      <th>count</th>\n",
       "      <th>unique</th>\n",
       "      <th>top</th>\n",
       "      <th>freq</th>\n",
       "    </tr>\n",
       "  </thead>\n",
       "  <tbody>\n",
       "    <tr>\n",
       "      <th>data-product-id</th>\n",
       "      <td>25418</td>\n",
       "      <td>16055</td>\n",
       "      <td>014520</td>\n",
       "      <td>6</td>\n",
       "    </tr>\n",
       "    <tr>\n",
       "      <th>data-product-name</th>\n",
       "      <td>25418</td>\n",
       "      <td>15419</td>\n",
       "      <td>Evian Still Mineral Water</td>\n",
       "      <td>13</td>\n",
       "    </tr>\n",
       "    <tr>\n",
       "      <th>data-product-type</th>\n",
       "      <td>25418</td>\n",
       "      <td>3</td>\n",
       "      <td>G</td>\n",
       "      <td>24377</td>\n",
       "    </tr>\n",
       "    <tr>\n",
       "      <th>data-product-on-offer</th>\n",
       "      <td>25418</td>\n",
       "      <td>2</td>\n",
       "      <td>false</td>\n",
       "      <td>18217</td>\n",
       "    </tr>\n",
       "    <tr>\n",
       "      <th>data-product-index</th>\n",
       "      <td>25408</td>\n",
       "      <td>4189</td>\n",
       "      <td>86</td>\n",
       "      <td>20</td>\n",
       "    </tr>\n",
       "    <tr>\n",
       "      <th>image-url</th>\n",
       "      <td>25418</td>\n",
       "      <td>16055</td>\n",
       "      <td>https://ecom-su-static-prod.wtrecom.com/images...</td>\n",
       "      <td>6</td>\n",
       "    </tr>\n",
       "    <tr>\n",
       "      <th>product-page</th>\n",
       "      <td>25418</td>\n",
       "      <td>16055</td>\n",
       "      <td>https://www.waitrose.com/ecom/products/duchy-o...</td>\n",
       "      <td>6</td>\n",
       "    </tr>\n",
       "    <tr>\n",
       "      <th>product-name</th>\n",
       "      <td>25418</td>\n",
       "      <td>15419</td>\n",
       "      <td>Evian Still Mineral Water</td>\n",
       "      <td>13</td>\n",
       "    </tr>\n",
       "    <tr>\n",
       "      <th>product-size</th>\n",
       "      <td>25418</td>\n",
       "      <td>1541</td>\n",
       "      <td>each</td>\n",
       "      <td>867</td>\n",
       "    </tr>\n",
       "    <tr>\n",
       "      <th>item-price</th>\n",
       "      <td>25407</td>\n",
       "      <td>774</td>\n",
       "      <td>£2.50</td>\n",
       "      <td>948</td>\n",
       "    </tr>\n",
       "    <tr>\n",
       "      <th>price-per-unit</th>\n",
       "      <td>24976</td>\n",
       "      <td>4049</td>\n",
       "      <td>£2/100g</td>\n",
       "      <td>160</td>\n",
       "    </tr>\n",
       "    <tr>\n",
       "      <th>offer-description</th>\n",
       "      <td>7201</td>\n",
       "      <td>1040</td>\n",
       "      <td>£5 Food to Go Meal Deal: Add 1 Main, 1 Snack a...</td>\n",
       "      <td>452</td>\n",
       "    </tr>\n",
       "    <tr>\n",
       "      <th>category</th>\n",
       "      <td>25418</td>\n",
       "      <td>18</td>\n",
       "      <td>Food Cupboard</td>\n",
       "      <td>4189</td>\n",
       "    </tr>\n",
       "  </tbody>\n",
       "</table>\n",
       "</div>"
      ],
      "text/plain": [
       "                       count unique  \\\n",
       "data-product-id        25418  16055   \n",
       "data-product-name      25418  15419   \n",
       "data-product-type      25418      3   \n",
       "data-product-on-offer  25418      2   \n",
       "data-product-index     25408   4189   \n",
       "image-url              25418  16055   \n",
       "product-page           25418  16055   \n",
       "product-name           25418  15419   \n",
       "product-size           25418   1541   \n",
       "item-price             25407    774   \n",
       "price-per-unit         24976   4049   \n",
       "offer-description       7201   1040   \n",
       "category               25418     18   \n",
       "\n",
       "                                                                     top  \\\n",
       "data-product-id                                                   014520   \n",
       "data-product-name                              Evian Still Mineral Water   \n",
       "data-product-type                                                      G   \n",
       "data-product-on-offer                                              false   \n",
       "data-product-index                                                    86   \n",
       "image-url              https://ecom-su-static-prod.wtrecom.com/images...   \n",
       "product-page           https://www.waitrose.com/ecom/products/duchy-o...   \n",
       "product-name                                   Evian Still Mineral Water   \n",
       "product-size                                                        each   \n",
       "item-price                                                         £2.50   \n",
       "price-per-unit                                                   £2/100g   \n",
       "offer-description      £5 Food to Go Meal Deal: Add 1 Main, 1 Snack a...   \n",
       "category                                                   Food Cupboard   \n",
       "\n",
       "                        freq  \n",
       "data-product-id            6  \n",
       "data-product-name         13  \n",
       "data-product-type      24377  \n",
       "data-product-on-offer  18217  \n",
       "data-product-index        20  \n",
       "image-url                  6  \n",
       "product-page               6  \n",
       "product-name              13  \n",
       "product-size             867  \n",
       "item-price               948  \n",
       "price-per-unit           160  \n",
       "offer-description        452  \n",
       "category                4189  "
      ]
     },
     "execution_count": 19,
     "metadata": {},
     "output_type": "execute_result"
    }
   ],
   "source": [
    "df.describe().T"
   ]
  },
  {
   "cell_type": "code",
   "execution_count": 159,
   "metadata": {},
   "outputs": [
    {
     "data": {
      "text/plain": [
       "10        save 30p. Was £1.50\n",
       "11        save 45p. Was £2.45\n",
       "12               Add 3 for £2\n",
       "13               Add 3 for £3\n",
       "17               Add 2 for £9\n",
       "                ...          \n",
       "359             Add 2 for £13\n",
       "360       save 50p. Was £3.50\n",
       "365              Add 2 for £9\n",
       "369             Add 2 for £13\n",
       "373    save £3.50. Was £18.50\n",
       "Name: offer-description, Length: 127, dtype: object"
      ]
     },
     "execution_count": 159,
     "metadata": {},
     "output_type": "execute_result"
    }
   ],
   "source": [
    "df[df['data-product-on-offer'] == 'true']['offer-description']"
   ]
  }
 ],
 "metadata": {
  "kernelspec": {
   "display_name": "venv-waitrose",
   "language": "python",
   "name": "python3"
  },
  "language_info": {
   "codemirror_mode": {
    "name": "ipython",
    "version": 3
   },
   "file_extension": ".py",
   "mimetype": "text/x-python",
   "name": "python",
   "nbconvert_exporter": "python",
   "pygments_lexer": "ipython3",
   "version": "3.11.9"
  }
 },
 "nbformat": 4,
 "nbformat_minor": 2
}
